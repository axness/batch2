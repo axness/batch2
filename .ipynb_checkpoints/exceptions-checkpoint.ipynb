{
 "cells": [
  {
   "cell_type": "code",
   "execution_count": 2,
   "metadata": {},
   "outputs": [
    {
     "name": "stdout",
     "output_type": "stream",
     "text": [
      "enter a first number10.5\n"
     ]
    },
    {
     "ename": "ValueError",
     "evalue": "invalid literal for int() with base 10: '10.5'",
     "output_type": "error",
     "traceback": [
      "\u001b[1;31m--------------------------------------------------------------\u001b[0m",
      "\u001b[1;31mValueError\u001b[0m                   Traceback (most recent call last)",
      "\u001b[1;32m<ipython-input-2-be0fc1a9bef0>\u001b[0m in \u001b[0;36m<module>\u001b[1;34m()\u001b[0m\n\u001b[1;32m----> 1\u001b[1;33m \u001b[0ma\u001b[0m \u001b[1;33m=\u001b[0m \u001b[0mint\u001b[0m\u001b[1;33m(\u001b[0m\u001b[0mraw_input\u001b[0m\u001b[1;33m(\u001b[0m\u001b[1;34m\"enter a first number\"\u001b[0m\u001b[1;33m)\u001b[0m\u001b[1;33m)\u001b[0m\u001b[1;33m\u001b[0m\u001b[0m\n\u001b[0m\u001b[0;32m      2\u001b[0m \u001b[0mb\u001b[0m \u001b[1;33m=\u001b[0m \u001b[0mint\u001b[0m\u001b[1;33m(\u001b[0m\u001b[0mraw_input\u001b[0m\u001b[1;33m(\u001b[0m\u001b[1;34m\"enter a second number\"\u001b[0m\u001b[1;33m)\u001b[0m\u001b[1;33m)\u001b[0m\u001b[1;33m\u001b[0m\u001b[0m\n\u001b[0;32m      3\u001b[0m \u001b[1;32mprint\u001b[0m \u001b[0ma\u001b[0m\u001b[1;33m/\u001b[0m\u001b[0mb\u001b[0m\u001b[1;33m\u001b[0m\u001b[0m\n",
      "\u001b[1;31mValueError\u001b[0m: invalid literal for int() with base 10: '10.5'"
     ]
    }
   ],
   "source": [
    "a = int(raw_input(\"enter a first number\"))\n",
    "b = int(raw_input(\"enter a second number\"))\n",
    "print a/b"
   ]
  },
  {
   "cell_type": "code",
   "execution_count": 3,
   "metadata": {},
   "outputs": [
    {
     "name": "stdout",
     "output_type": "stream",
     "text": [
      "enter a first number10\n",
      "enter a second number20.5\n",
      "0.487804878049\n"
     ]
    }
   ],
   "source": [
    "a = float(raw_input(\"enter a first number\"))\n",
    "b = float(raw_input(\"enter a second number\"))\n",
    "print a/b"
   ]
  },
  {
   "cell_type": "code",
   "execution_count": 4,
   "metadata": {},
   "outputs": [
    {
     "name": "stdout",
     "output_type": "stream",
     "text": [
      "enter a first number10.5\n",
      "enter a second number0\n"
     ]
    },
    {
     "ename": "ZeroDivisionError",
     "evalue": "float division by zero",
     "output_type": "error",
     "traceback": [
      "\u001b[1;31m--------------------------------------------------------------\u001b[0m",
      "\u001b[1;31mZeroDivisionError\u001b[0m            Traceback (most recent call last)",
      "\u001b[1;32m<ipython-input-4-8c3222d4fe0d>\u001b[0m in \u001b[0;36m<module>\u001b[1;34m()\u001b[0m\n\u001b[0;32m      1\u001b[0m \u001b[0ma\u001b[0m \u001b[1;33m=\u001b[0m \u001b[0mfloat\u001b[0m\u001b[1;33m(\u001b[0m\u001b[0mraw_input\u001b[0m\u001b[1;33m(\u001b[0m\u001b[1;34m\"enter a first number\"\u001b[0m\u001b[1;33m)\u001b[0m\u001b[1;33m)\u001b[0m\u001b[1;33m\u001b[0m\u001b[0m\n\u001b[0;32m      2\u001b[0m \u001b[0mb\u001b[0m \u001b[1;33m=\u001b[0m \u001b[0mfloat\u001b[0m\u001b[1;33m(\u001b[0m\u001b[0mraw_input\u001b[0m\u001b[1;33m(\u001b[0m\u001b[1;34m\"enter a second number\"\u001b[0m\u001b[1;33m)\u001b[0m\u001b[1;33m)\u001b[0m\u001b[1;33m\u001b[0m\u001b[0m\n\u001b[1;32m----> 3\u001b[1;33m \u001b[1;32mprint\u001b[0m \u001b[0ma\u001b[0m\u001b[1;33m/\u001b[0m\u001b[0mb\u001b[0m\u001b[1;33m\u001b[0m\u001b[0m\n\u001b[0m",
      "\u001b[1;31mZeroDivisionError\u001b[0m: float division by zero"
     ]
    }
   ],
   "source": [
    "a = float(raw_input(\"enter a first number\"))\n",
    "b = float(raw_input(\"enter a second number\"))\n",
    "print a/b"
   ]
  },
  {
   "cell_type": "code",
   "execution_count": 5,
   "metadata": {},
   "outputs": [
    {
     "name": "stdout",
     "output_type": "stream",
     "text": [
      "enter a first numbernag\n"
     ]
    },
    {
     "ename": "ValueError",
     "evalue": "could not convert string to float: nag",
     "output_type": "error",
     "traceback": [
      "\u001b[1;31m--------------------------------------------------------------\u001b[0m",
      "\u001b[1;31mValueError\u001b[0m                   Traceback (most recent call last)",
      "\u001b[1;32m<ipython-input-5-8c3222d4fe0d>\u001b[0m in \u001b[0;36m<module>\u001b[1;34m()\u001b[0m\n\u001b[1;32m----> 1\u001b[1;33m \u001b[0ma\u001b[0m \u001b[1;33m=\u001b[0m \u001b[0mfloat\u001b[0m\u001b[1;33m(\u001b[0m\u001b[0mraw_input\u001b[0m\u001b[1;33m(\u001b[0m\u001b[1;34m\"enter a first number\"\u001b[0m\u001b[1;33m)\u001b[0m\u001b[1;33m)\u001b[0m\u001b[1;33m\u001b[0m\u001b[0m\n\u001b[0m\u001b[0;32m      2\u001b[0m \u001b[0mb\u001b[0m \u001b[1;33m=\u001b[0m \u001b[0mfloat\u001b[0m\u001b[1;33m(\u001b[0m\u001b[0mraw_input\u001b[0m\u001b[1;33m(\u001b[0m\u001b[1;34m\"enter a second number\"\u001b[0m\u001b[1;33m)\u001b[0m\u001b[1;33m)\u001b[0m\u001b[1;33m\u001b[0m\u001b[0m\n\u001b[0;32m      3\u001b[0m \u001b[1;32mprint\u001b[0m \u001b[0ma\u001b[0m\u001b[1;33m/\u001b[0m\u001b[0mb\u001b[0m\u001b[1;33m\u001b[0m\u001b[0m\n",
      "\u001b[1;31mValueError\u001b[0m: could not convert string to float: nag"
     ]
    }
   ],
   "source": [
    "a = float(raw_input(\"enter a first number\"))\n",
    "b = float(raw_input(\"enter a second number\"))\n",
    "print a/b"
   ]
  },
  {
   "cell_type": "code",
   "execution_count": 6,
   "metadata": {},
   "outputs": [
    {
     "name": "stdout",
     "output_type": "stream",
     "text": [
      "staring the program\n",
      "enter a first number23\n",
      "enter a second number0\n",
      "denominator as zero\n"
     ]
    }
   ],
   "source": [
    "print \"staring the program\"\n",
    "try:\n",
    "    a = float(raw_input(\"enter a first number\"))\n",
    "    b = float(raw_input(\"enter a second number\"))\n",
    "    print a/b\n",
    "except:\n",
    "    print \"denominator as zero\""
   ]
  },
  {
   "cell_type": "code",
   "execution_count": 8,
   "metadata": {},
   "outputs": [
    {
     "name": "stdout",
     "output_type": "stream",
     "text": [
      "staring the program\n",
      "enter a first number212\n",
      "enter a second numberdjhsad\n",
      "denominator is zero\n"
     ]
    }
   ],
   "source": [
    "print \"staring the program\"\n",
    "try:\n",
    "    a = float(raw_input(\"enter a first number\"))\n",
    "    b = float(raw_input(\"enter a second number\"))\n",
    "    print a/b\n",
    "except:\n",
    "    print \"denominator is zero\""
   ]
  },
  {
   "cell_type": "code",
   "execution_count": 10,
   "metadata": {},
   "outputs": [
    {
     "name": "stdout",
     "output_type": "stream",
     "text": [
      "staring the program\n",
      "enter a first number12\n",
      "enter a second number0\n",
      "error message is \n",
      "float division by zero\n"
     ]
    }
   ],
   "source": [
    "print \"staring the program\"\n",
    "try:\n",
    "    a = float(raw_input(\"enter a first number\"))\n",
    "    b = float(raw_input(\"enter a second number\"))\n",
    "    print a/b\n",
    "except Exception as e:\n",
    "    print \"error message is \\n\",e"
   ]
  },
  {
   "cell_type": "code",
   "execution_count": 11,
   "metadata": {},
   "outputs": [
    {
     "name": "stdout",
     "output_type": "stream",
     "text": [
      "staring the program\n",
      "enter a first number12\n",
      "enter a second numberpython\n",
      "error message is \n",
      "could not convert string to float: python\n"
     ]
    }
   ],
   "source": [
    "print \"staring the program\"\n",
    "try:\n",
    "    a = float(raw_input(\"enter a first number\"))\n",
    "    b = float(raw_input(\"enter a second number\"))\n",
    "    print a/b\n",
    "except Exception as e:\n",
    "    print \"error message is \\n\",e"
   ]
  },
  {
   "cell_type": "code",
   "execution_count": 1,
   "metadata": {},
   "outputs": [
    {
     "name": "stdout",
     "output_type": "stream",
     "text": [
      "staring the program\n",
      "enter a first number12\n",
      "enter a second numberpython\n",
      "error message is \n",
      "could not convert string to float: python\n"
     ]
    }
   ],
   "source": [
    "print \"staring the program\"\n",
    "try:\n",
    "    a = float(raw_input(\"enter a first number\"))\n",
    "    b = float(raw_input(\"enter a second number\"))\n",
    "    print a/b\n",
    "except ValueError as e:\n",
    "    print \"error message is \\n\",e"
   ]
  },
  {
   "cell_type": "code",
   "execution_count": 2,
   "metadata": {},
   "outputs": [
    {
     "name": "stdout",
     "output_type": "stream",
     "text": [
      "staring the program\n",
      "enter a first number12\n",
      "enter a second number0\n"
     ]
    },
    {
     "ename": "ZeroDivisionError",
     "evalue": "float division by zero",
     "output_type": "error",
     "traceback": [
      "\u001b[1;31m--------------------------------------------------------------\u001b[0m",
      "\u001b[1;31mZeroDivisionError\u001b[0m            Traceback (most recent call last)",
      "\u001b[1;32m<ipython-input-2-855297bfed6e>\u001b[0m in \u001b[0;36m<module>\u001b[1;34m()\u001b[0m\n\u001b[0;32m      3\u001b[0m     \u001b[0ma\u001b[0m \u001b[1;33m=\u001b[0m \u001b[0mfloat\u001b[0m\u001b[1;33m(\u001b[0m\u001b[0mraw_input\u001b[0m\u001b[1;33m(\u001b[0m\u001b[1;34m\"enter a first number\"\u001b[0m\u001b[1;33m)\u001b[0m\u001b[1;33m)\u001b[0m\u001b[1;33m\u001b[0m\u001b[0m\n\u001b[0;32m      4\u001b[0m     \u001b[0mb\u001b[0m \u001b[1;33m=\u001b[0m \u001b[0mfloat\u001b[0m\u001b[1;33m(\u001b[0m\u001b[0mraw_input\u001b[0m\u001b[1;33m(\u001b[0m\u001b[1;34m\"enter a second number\"\u001b[0m\u001b[1;33m)\u001b[0m\u001b[1;33m)\u001b[0m\u001b[1;33m\u001b[0m\u001b[0m\n\u001b[1;32m----> 5\u001b[1;33m     \u001b[1;32mprint\u001b[0m \u001b[0ma\u001b[0m\u001b[1;33m/\u001b[0m\u001b[0mb\u001b[0m\u001b[1;33m\u001b[0m\u001b[0m\n\u001b[0m\u001b[0;32m      6\u001b[0m \u001b[1;32mexcept\u001b[0m \u001b[0mValueError\u001b[0m \u001b[1;32mas\u001b[0m \u001b[0me\u001b[0m\u001b[1;33m:\u001b[0m\u001b[1;33m\u001b[0m\u001b[0m\n\u001b[0;32m      7\u001b[0m     \u001b[1;32mprint\u001b[0m \u001b[1;34m\"error message is \\n\"\u001b[0m\u001b[1;33m,\u001b[0m\u001b[0me\u001b[0m\u001b[1;33m\u001b[0m\u001b[0m\n",
      "\u001b[1;31mZeroDivisionError\u001b[0m: float division by zero"
     ]
    }
   ],
   "source": [
    "print \"staring the program\"\n",
    "try:\n",
    "    a = float(raw_input(\"enter a first number\"))\n",
    "    b = float(raw_input(\"enter a second number\"))\n",
    "    print a/b\n",
    "except ValueError as e:\n",
    "    print \"error message is \\n\",e"
   ]
  },
  {
   "cell_type": "code",
   "execution_count": 3,
   "metadata": {},
   "outputs": [
    {
     "name": "stdout",
     "output_type": "stream",
     "text": [
      "staring the program\n",
      "enter a first numberpython\n",
      "value error message is could not convert string to float: python\n"
     ]
    }
   ],
   "source": [
    "print \"staring the program\"\n",
    "try:\n",
    "    a = float(raw_input(\"enter a first number\"))\n",
    "    b = float(raw_input(\"enter a second number\"))\n",
    "    print a/b\n",
    "except ZeroDivisionError as e:\n",
    "    print \"zero division error is\", e\n",
    "except ValueError as e:\n",
    "    print \"value error message is\",e\n",
    "except Exception as e:\n",
    "    print \"some error\""
   ]
  },
  {
   "cell_type": "code",
   "execution_count": 5,
   "metadata": {},
   "outputs": [
    {
     "name": "stdout",
     "output_type": "stream",
     "text": [
      "staring the program\n",
      "enter a first number12\n",
      "enter a second number15\n",
      "0.8\n",
      "some error name 'c' is not defined\n"
     ]
    }
   ],
   "source": [
    "print \"staring the program\"\n",
    "try:\n",
    "    a = float(raw_input(\"enter a first number\"))\n",
    "    b = float(raw_input(\"enter a second number\"))\n",
    "    print a/b\n",
    "    print c\n",
    "except ZeroDivisionError as e:\n",
    "    print \"zero division error is\", e\n",
    "except ValueError as e:\n",
    "    print \"value error message is\",e\n",
    "except Exception as e:\n",
    "    print \"some error\", e"
   ]
  },
  {
   "cell_type": "code",
   "execution_count": null,
   "metadata": {
    "collapsed": true
   },
   "outputs": [],
   "source": []
  }
 ],
 "metadata": {
  "kernelspec": {
   "display_name": "Python 2",
   "language": "python",
   "name": "python2"
  },
  "language_info": {
   "codemirror_mode": {
    "name": "ipython",
    "version": 2
   },
   "file_extension": ".py",
   "mimetype": "text/x-python",
   "name": "python",
   "nbconvert_exporter": "python",
   "pygments_lexer": "ipython2",
   "version": "2.7.13"
  }
 },
 "nbformat": 4,
 "nbformat_minor": 2
}

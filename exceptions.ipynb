{
 "cells": [
  {
   "cell_type": "code",
   "execution_count": 2,
   "metadata": {},
   "outputs": [
    {
     "name": "stdout",
     "output_type": "stream",
     "text": [
      "enter a first number10.5\n"
     ]
    },
    {
     "ename": "ValueError",
     "evalue": "invalid literal for int() with base 10: '10.5'",
     "output_type": "error",
     "traceback": [
      "\u001b[1;31m--------------------------------------------------------------\u001b[0m",
      "\u001b[1;31mValueError\u001b[0m                   Traceback (most recent call last)",
      "\u001b[1;32m<ipython-input-2-be0fc1a9bef0>\u001b[0m in \u001b[0;36m<module>\u001b[1;34m()\u001b[0m\n\u001b[1;32m----> 1\u001b[1;33m \u001b[0ma\u001b[0m \u001b[1;33m=\u001b[0m \u001b[0mint\u001b[0m\u001b[1;33m(\u001b[0m\u001b[0mraw_input\u001b[0m\u001b[1;33m(\u001b[0m\u001b[1;34m\"enter a first number\"\u001b[0m\u001b[1;33m)\u001b[0m\u001b[1;33m)\u001b[0m\u001b[1;33m\u001b[0m\u001b[0m\n\u001b[0m\u001b[0;32m      2\u001b[0m \u001b[0mb\u001b[0m \u001b[1;33m=\u001b[0m \u001b[0mint\u001b[0m\u001b[1;33m(\u001b[0m\u001b[0mraw_input\u001b[0m\u001b[1;33m(\u001b[0m\u001b[1;34m\"enter a second number\"\u001b[0m\u001b[1;33m)\u001b[0m\u001b[1;33m)\u001b[0m\u001b[1;33m\u001b[0m\u001b[0m\n\u001b[0;32m      3\u001b[0m \u001b[1;32mprint\u001b[0m \u001b[0ma\u001b[0m\u001b[1;33m/\u001b[0m\u001b[0mb\u001b[0m\u001b[1;33m\u001b[0m\u001b[0m\n",
      "\u001b[1;31mValueError\u001b[0m: invalid literal for int() with base 10: '10.5'"
     ]
    }
   ],
   "source": [
    "a = int(raw_input(\"enter a first number\"))\n",
    "b = int(raw_input(\"enter a second number\"))\n",
    "print a/b"
   ]
  },
  {
   "cell_type": "code",
   "execution_count": 3,
   "metadata": {},
   "outputs": [
    {
     "name": "stdout",
     "output_type": "stream",
     "text": [
      "enter a first number10\n",
      "enter a second number20.5\n",
      "0.487804878049\n"
     ]
    }
   ],
   "source": [
    "a = float(raw_input(\"enter a first number\"))\n",
    "b = float(raw_input(\"enter a second number\"))\n",
    "print a/b"
   ]
  },
  {
   "cell_type": "code",
   "execution_count": 4,
   "metadata": {},
   "outputs": [
    {
     "name": "stdout",
     "output_type": "stream",
     "text": [
      "enter a first number10.5\n",
      "enter a second number0\n"
     ]
    },
    {
     "ename": "ZeroDivisionError",
     "evalue": "float division by zero",
     "output_type": "error",
     "traceback": [
      "\u001b[1;31m--------------------------------------------------------------\u001b[0m",
      "\u001b[1;31mZeroDivisionError\u001b[0m            Traceback (most recent call last)",
      "\u001b[1;32m<ipython-input-4-8c3222d4fe0d>\u001b[0m in \u001b[0;36m<module>\u001b[1;34m()\u001b[0m\n\u001b[0;32m      1\u001b[0m \u001b[0ma\u001b[0m \u001b[1;33m=\u001b[0m \u001b[0mfloat\u001b[0m\u001b[1;33m(\u001b[0m\u001b[0mraw_input\u001b[0m\u001b[1;33m(\u001b[0m\u001b[1;34m\"enter a first number\"\u001b[0m\u001b[1;33m)\u001b[0m\u001b[1;33m)\u001b[0m\u001b[1;33m\u001b[0m\u001b[0m\n\u001b[0;32m      2\u001b[0m \u001b[0mb\u001b[0m \u001b[1;33m=\u001b[0m \u001b[0mfloat\u001b[0m\u001b[1;33m(\u001b[0m\u001b[0mraw_input\u001b[0m\u001b[1;33m(\u001b[0m\u001b[1;34m\"enter a second number\"\u001b[0m\u001b[1;33m)\u001b[0m\u001b[1;33m)\u001b[0m\u001b[1;33m\u001b[0m\u001b[0m\n\u001b[1;32m----> 3\u001b[1;33m \u001b[1;32mprint\u001b[0m \u001b[0ma\u001b[0m\u001b[1;33m/\u001b[0m\u001b[0mb\u001b[0m\u001b[1;33m\u001b[0m\u001b[0m\n\u001b[0m",
      "\u001b[1;31mZeroDivisionError\u001b[0m: float division by zero"
     ]
    }
   ],
   "source": [
    "a = float(raw_input(\"enter a first number\"))\n",
    "b = float(raw_input(\"enter a second number\"))\n",
    "print a/b"
   ]
  },
  {
   "cell_type": "code",
   "execution_count": 5,
   "metadata": {},
   "outputs": [
    {
     "name": "stdout",
     "output_type": "stream",
     "text": [
      "enter a first numbernag\n"
     ]
    },
    {
     "ename": "ValueError",
     "evalue": "could not convert string to float: nag",
     "output_type": "error",
     "traceback": [
      "\u001b[1;31m--------------------------------------------------------------\u001b[0m",
      "\u001b[1;31mValueError\u001b[0m                   Traceback (most recent call last)",
      "\u001b[1;32m<ipython-input-5-8c3222d4fe0d>\u001b[0m in \u001b[0;36m<module>\u001b[1;34m()\u001b[0m\n\u001b[1;32m----> 1\u001b[1;33m \u001b[0ma\u001b[0m \u001b[1;33m=\u001b[0m \u001b[0mfloat\u001b[0m\u001b[1;33m(\u001b[0m\u001b[0mraw_input\u001b[0m\u001b[1;33m(\u001b[0m\u001b[1;34m\"enter a first number\"\u001b[0m\u001b[1;33m)\u001b[0m\u001b[1;33m)\u001b[0m\u001b[1;33m\u001b[0m\u001b[0m\n\u001b[0m\u001b[0;32m      2\u001b[0m \u001b[0mb\u001b[0m \u001b[1;33m=\u001b[0m \u001b[0mfloat\u001b[0m\u001b[1;33m(\u001b[0m\u001b[0mraw_input\u001b[0m\u001b[1;33m(\u001b[0m\u001b[1;34m\"enter a second number\"\u001b[0m\u001b[1;33m)\u001b[0m\u001b[1;33m)\u001b[0m\u001b[1;33m\u001b[0m\u001b[0m\n\u001b[0;32m      3\u001b[0m \u001b[1;32mprint\u001b[0m \u001b[0ma\u001b[0m\u001b[1;33m/\u001b[0m\u001b[0mb\u001b[0m\u001b[1;33m\u001b[0m\u001b[0m\n",
      "\u001b[1;31mValueError\u001b[0m: could not convert string to float: nag"
     ]
    }
   ],
   "source": [
    "a = float(raw_input(\"enter a first number\"))\n",
    "b = float(raw_input(\"enter a second number\"))\n",
    "print a/b"
   ]
  },
  {
   "cell_type": "code",
   "execution_count": 6,
   "metadata": {},
   "outputs": [
    {
     "name": "stdout",
     "output_type": "stream",
     "text": [
      "staring the program\n",
      "enter a first number23\n",
      "enter a second number0\n",
      "denominator as zero\n"
     ]
    }
   ],
   "source": [
    "print \"staring the program\"\n",
    "try:\n",
    "    a = float(raw_input(\"enter a first number\"))\n",
    "    b = float(raw_input(\"enter a second number\"))\n",
    "    print a/b\n",
    "except:\n",
    "    print \"denominator as zero\""
   ]
  },
  {
   "cell_type": "code",
   "execution_count": 8,
   "metadata": {},
   "outputs": [
    {
     "name": "stdout",
     "output_type": "stream",
     "text": [
      "staring the program\n",
      "enter a first number212\n",
      "enter a second numberdjhsad\n",
      "denominator is zero\n"
     ]
    }
   ],
   "source": [
    "print \"staring the program\"\n",
    "try:\n",
    "    a = float(raw_input(\"enter a first number\"))\n",
    "    b = float(raw_input(\"enter a second number\"))\n",
    "    print a/b\n",
    "except:\n",
    "    print \"denominator is zero\""
   ]
  },
  {
   "cell_type": "code",
   "execution_count": 10,
   "metadata": {},
   "outputs": [
    {
     "name": "stdout",
     "output_type": "stream",
     "text": [
      "staring the program\n",
      "enter a first number12\n",
      "enter a second number0\n",
      "error message is \n",
      "float division by zero\n"
     ]
    }
   ],
   "source": [
    "print \"staring the program\"\n",
    "try:\n",
    "    a = float(raw_input(\"enter a first number\"))\n",
    "    b = float(raw_input(\"enter a second number\"))\n",
    "    print a/b\n",
    "except Exception as e:\n",
    "    print \"error message is \\n\",e"
   ]
  },
  {
   "cell_type": "code",
   "execution_count": 11,
   "metadata": {},
   "outputs": [
    {
     "name": "stdout",
     "output_type": "stream",
     "text": [
      "staring the program\n",
      "enter a first number12\n",
      "enter a second numberpython\n",
      "error message is \n",
      "could not convert string to float: python\n"
     ]
    }
   ],
   "source": [
    "print \"staring the program\"\n",
    "try:\n",
    "    a = float(raw_input(\"enter a first number\"))\n",
    "    b = float(raw_input(\"enter a second number\"))\n",
    "    print a/b\n",
    "except Exception as e:\n",
    "    print \"error message is \\n\",e"
   ]
  },
  {
   "cell_type": "code",
   "execution_count": 1,
   "metadata": {},
   "outputs": [
    {
     "name": "stdout",
     "output_type": "stream",
     "text": [
      "staring the program\n",
      "enter a first number12\n",
      "enter a second numberpython\n",
      "error message is \n",
      "could not convert string to float: python\n"
     ]
    }
   ],
   "source": [
    "print \"staring the program\"\n",
    "try:\n",
    "    a = float(raw_input(\"enter a first number\"))\n",
    "    b = float(raw_input(\"enter a second number\"))\n",
    "    print a/b\n",
    "except ValueError as e:\n",
    "    print \"error message is \\n\",e"
   ]
  },
  {
   "cell_type": "code",
   "execution_count": 2,
   "metadata": {},
   "outputs": [
    {
     "name": "stdout",
     "output_type": "stream",
     "text": [
      "staring the program\n",
      "enter a first number12\n",
      "enter a second number0\n"
     ]
    },
    {
     "ename": "ZeroDivisionError",
     "evalue": "float division by zero",
     "output_type": "error",
     "traceback": [
      "\u001b[1;31m--------------------------------------------------------------\u001b[0m",
      "\u001b[1;31mZeroDivisionError\u001b[0m            Traceback (most recent call last)",
      "\u001b[1;32m<ipython-input-2-855297bfed6e>\u001b[0m in \u001b[0;36m<module>\u001b[1;34m()\u001b[0m\n\u001b[0;32m      3\u001b[0m     \u001b[0ma\u001b[0m \u001b[1;33m=\u001b[0m \u001b[0mfloat\u001b[0m\u001b[1;33m(\u001b[0m\u001b[0mraw_input\u001b[0m\u001b[1;33m(\u001b[0m\u001b[1;34m\"enter a first number\"\u001b[0m\u001b[1;33m)\u001b[0m\u001b[1;33m)\u001b[0m\u001b[1;33m\u001b[0m\u001b[0m\n\u001b[0;32m      4\u001b[0m     \u001b[0mb\u001b[0m \u001b[1;33m=\u001b[0m \u001b[0mfloat\u001b[0m\u001b[1;33m(\u001b[0m\u001b[0mraw_input\u001b[0m\u001b[1;33m(\u001b[0m\u001b[1;34m\"enter a second number\"\u001b[0m\u001b[1;33m)\u001b[0m\u001b[1;33m)\u001b[0m\u001b[1;33m\u001b[0m\u001b[0m\n\u001b[1;32m----> 5\u001b[1;33m     \u001b[1;32mprint\u001b[0m \u001b[0ma\u001b[0m\u001b[1;33m/\u001b[0m\u001b[0mb\u001b[0m\u001b[1;33m\u001b[0m\u001b[0m\n\u001b[0m\u001b[0;32m      6\u001b[0m \u001b[1;32mexcept\u001b[0m \u001b[0mValueError\u001b[0m \u001b[1;32mas\u001b[0m \u001b[0me\u001b[0m\u001b[1;33m:\u001b[0m\u001b[1;33m\u001b[0m\u001b[0m\n\u001b[0;32m      7\u001b[0m     \u001b[1;32mprint\u001b[0m \u001b[1;34m\"error message is \\n\"\u001b[0m\u001b[1;33m,\u001b[0m\u001b[0me\u001b[0m\u001b[1;33m\u001b[0m\u001b[0m\n",
      "\u001b[1;31mZeroDivisionError\u001b[0m: float division by zero"
     ]
    }
   ],
   "source": [
    "print \"staring the program\"\n",
    "try:\n",
    "    a = float(raw_input(\"enter a first number\"))\n",
    "    b = float(raw_input(\"enter a second number\"))\n",
    "    print a/b\n",
    "except ValueError as e:\n",
    "    print \"error message is \\n\",e"
   ]
  },
  {
   "cell_type": "code",
   "execution_count": 3,
   "metadata": {},
   "outputs": [
    {
     "name": "stdout",
     "output_type": "stream",
     "text": [
      "staring the program\n",
      "enter a first numberpython\n",
      "value error message is could not convert string to float: python\n"
     ]
    }
   ],
   "source": [
    "print \"staring the program\"\n",
    "try:\n",
    "    a = float(raw_input(\"enter a first number\"))\n",
    "    b = float(raw_input(\"enter a second number\"))\n",
    "    print a/b\n",
    "except ZeroDivisionError as e:\n",
    "    print \"zero division error is\", e\n",
    "except ValueError as e:\n",
    "    print \"value error message is\",e\n",
    "except Exception as e:\n",
    "    print \"some error\""
   ]
  },
  {
   "cell_type": "code",
   "execution_count": 5,
   "metadata": {},
   "outputs": [
    {
     "name": "stdout",
     "output_type": "stream",
     "text": [
      "staring the program\n",
      "enter a first number12\n",
      "enter a second number15\n",
      "0.8\n",
      "some error name 'c' is not defined\n"
     ]
    }
   ],
   "source": [
    "print \"staring the program\"\n",
    "try:\n",
    "    a = float(raw_input(\"enter a first number\"))\n",
    "    b = float(raw_input(\"enter a second number\"))\n",
    "    print a/b\n",
    "    print c\n",
    "except ZeroDivisionError as e:\n",
    "    print \"zero division error is\", e\n",
    "except ValueError as e:\n",
    "    print \"value error message is\",e\n",
    "except Exception as e:\n",
    "    print \"some error\", e"
   ]
  },
  {
   "cell_type": "code",
   "execution_count": 6,
   "metadata": {},
   "outputs": [
    {
     "name": "stdout",
     "output_type": "stream",
     "text": [
      "staring the program\n",
      "enter a first number12\n",
      "enter a second number15\n",
      "0.8\n"
     ]
    },
    {
     "ename": "NameError",
     "evalue": "name 'c' is not defined",
     "output_type": "error",
     "traceback": [
      "\u001b[1;31m--------------------------------------------------------------\u001b[0m",
      "\u001b[1;31mNameError\u001b[0m                    Traceback (most recent call last)",
      "\u001b[1;32m<ipython-input-6-ec0665ed063d>\u001b[0m in \u001b[0;36m<module>\u001b[1;34m()\u001b[0m\n\u001b[0;32m      4\u001b[0m     \u001b[0mb\u001b[0m \u001b[1;33m=\u001b[0m \u001b[0mfloat\u001b[0m\u001b[1;33m(\u001b[0m\u001b[0mraw_input\u001b[0m\u001b[1;33m(\u001b[0m\u001b[1;34m\"enter a second number\"\u001b[0m\u001b[1;33m)\u001b[0m\u001b[1;33m)\u001b[0m\u001b[1;33m\u001b[0m\u001b[0m\n\u001b[0;32m      5\u001b[0m     \u001b[1;32mprint\u001b[0m \u001b[0ma\u001b[0m\u001b[1;33m/\u001b[0m\u001b[0mb\u001b[0m\u001b[1;33m\u001b[0m\u001b[0m\n\u001b[1;32m----> 6\u001b[1;33m     \u001b[1;32mprint\u001b[0m \u001b[0mc\u001b[0m\u001b[1;33m\u001b[0m\u001b[0m\n\u001b[0m\u001b[0;32m      7\u001b[0m \u001b[1;32mexcept\u001b[0m \u001b[0mZeroDivisionError\u001b[0m \u001b[1;32mas\u001b[0m \u001b[0me\u001b[0m\u001b[1;33m:\u001b[0m\u001b[1;33m\u001b[0m\u001b[0m\n\u001b[0;32m      8\u001b[0m     \u001b[1;32mprint\u001b[0m \u001b[1;34m\"zero division error is\"\u001b[0m\u001b[1;33m,\u001b[0m \u001b[0me\u001b[0m\u001b[1;33m\u001b[0m\u001b[0m\n",
      "\u001b[1;31mNameError\u001b[0m: name 'c' is not defined"
     ]
    }
   ],
   "source": [
    "print \"staring the program\"\n",
    "try:\n",
    "    a = float(raw_input(\"enter a first number\"))\n",
    "    b = float(raw_input(\"enter a second number\"))\n",
    "    print a/b\n",
    "    print c\n",
    "except ZeroDivisionError as e:\n",
    "    print \"zero division error is\", e\n",
    "except ValueError as e:\n",
    "    print \"value error message is\",e"
   ]
  },
  {
   "cell_type": "code",
   "execution_count": 7,
   "metadata": {},
   "outputs": [
    {
     "name": "stdout",
     "output_type": "stream",
     "text": [
      "staring the program\n",
      "enter a first number12\n",
      "enter a second number0\n",
      "you have entered denominator as zero please enter a valid one5\n",
      "2.4\n"
     ]
    }
   ],
   "source": [
    "print \"staring the program\"\n",
    "try:\n",
    "    a = float(raw_input(\"enter a first number\"))\n",
    "    b = float(raw_input(\"enter a second number\"))\n",
    "    print a/b\n",
    "except ZeroDivisionError as e:\n",
    "    b = float(raw_input(\"you have entered denominator as zero please enter a valid one\"))\n",
    "    print a/b\n",
    "except ValueError as e:\n",
    "    print \"you entered values other than please enter valid numbers\"\n",
    "    a = float(raw_input(\"enter a first number\"))\n",
    "    b = float(raw_input(\"enter a second number\"))\n",
    "    print a/b"
   ]
  },
  {
   "cell_type": "code",
   "execution_count": 8,
   "metadata": {},
   "outputs": [
    {
     "name": "stdout",
     "output_type": "stream",
     "text": [
      "staring the program\n",
      "enter a first numberpython\n",
      "you entered values other than please enter valid numbers\n",
      "enter a first number12\n",
      "enter a second number5\n",
      "2.4\n"
     ]
    }
   ],
   "source": [
    "print \"staring the program\"\n",
    "try:\n",
    "    a = float(raw_input(\"enter a first number\"))\n",
    "    b = float(raw_input(\"enter a second number\"))\n",
    "    print a/b\n",
    "except ZeroDivisionError as e:\n",
    "    b = float(raw_input(\"you have entered denominator as zero please enter a valid one\"))\n",
    "    print a/b\n",
    "except ValueError as e:\n",
    "    print \"you entered values other than please enter valid numbers\"\n",
    "    a = float(raw_input(\"enter a first number\"))\n",
    "    b = float(raw_input(\"enter a second number\"))\n",
    "    print a/b"
   ]
  },
  {
   "cell_type": "code",
   "execution_count": 9,
   "metadata": {},
   "outputs": [
    {
     "name": "stdout",
     "output_type": "stream",
     "text": [
      "staring the program\n",
      "enter a first number12\n",
      "enter a second number0\n",
      "you have entered denominator as zero please enter a valid one5\n",
      "2.4\n"
     ]
    }
   ],
   "source": [
    "print \"staring the program\"\n",
    "try:\n",
    "    a = float(raw_input(\"enter a first number\"))\n",
    "    b = float(raw_input(\"enter a second number\"))\n",
    "    if b == 0:\n",
    "        raise ZeroDivisionError()\n",
    "except ZeroDivisionError as e:\n",
    "    b = float(raw_input(\"you have entered denominator as zero please enter a valid one\"))\n",
    "except ValueError as e:\n",
    "    print \"you entered values other than please enter valid numbers\"\n",
    "    a = float(raw_input(\"enter a first number\"))\n",
    "    b = float(raw_input(\"enter a second number\"))\n",
    "finally:\n",
    "    print a/b"
   ]
  },
  {
   "cell_type": "code",
   "execution_count": 10,
   "metadata": {},
   "outputs": [
    {
     "name": "stdout",
     "output_type": "stream",
     "text": [
      "staring the program\n",
      "enter a first numberpython\n",
      "you entered values other than please enter valid numbers\n",
      "enter a first number12\n",
      "enter a second number5\n",
      "2.4\n"
     ]
    }
   ],
   "source": [
    "print \"staring the program\"\n",
    "try:\n",
    "    a = float(raw_input(\"enter a first number\"))\n",
    "    b = float(raw_input(\"enter a second number\"))\n",
    "    if b == 0:\n",
    "        raise ZeroDivisionError()\n",
    "except ZeroDivisionError as e:\n",
    "    b = float(raw_input(\"you have entered denominator as zero please enter a valid one\"))\n",
    "except ValueError as e:\n",
    "    print \"you entered values other than please enter valid numbers\"\n",
    "    a = float(raw_input(\"enter a first number\"))\n",
    "    b = float(raw_input(\"enter a second number\"))\n",
    "finally:\n",
    "    print a/b"
   ]
  },
  {
   "cell_type": "code",
   "execution_count": 11,
   "metadata": {},
   "outputs": [
    {
     "name": "stdout",
     "output_type": "stream",
     "text": [
      "staring the program\n",
      "enter a first number12\n",
      "enter a second number5\n",
      "2.4\n"
     ]
    }
   ],
   "source": [
    "print \"staring the program\"\n",
    "try:\n",
    "    a = float(raw_input(\"enter a first number\"))\n",
    "    b = float(raw_input(\"enter a second number\"))\n",
    "    if b == 0:\n",
    "        raise ZeroDivisionError()\n",
    "except ZeroDivisionError as e:\n",
    "    b = float(raw_input(\"you have entered denominator as zero please enter a valid one\"))\n",
    "except ValueError as e:\n",
    "    print \"you entered values other than please enter valid numbers\"\n",
    "    a = float(raw_input(\"enter a first number\"))\n",
    "    b = float(raw_input(\"enter a second number\"))\n",
    "finally:\n",
    "    print a/b"
   ]
  },
  {
   "cell_type": "code",
   "execution_count": 12,
   "metadata": {},
   "outputs": [
    {
     "ename": "IOError",
     "evalue": "[Errno 2] No such file or directory: 'aa.txt'",
     "output_type": "error",
     "traceback": [
      "\u001b[1;31m--------------------------------------------------------------\u001b[0m",
      "\u001b[1;31mIOError\u001b[0m                      Traceback (most recent call last)",
      "\u001b[1;32m<ipython-input-12-9e6219706778>\u001b[0m in \u001b[0;36m<module>\u001b[1;34m()\u001b[0m\n\u001b[1;32m----> 1\u001b[1;33m \u001b[0mf\u001b[0m \u001b[1;33m=\u001b[0m \u001b[0mopen\u001b[0m\u001b[1;33m(\u001b[0m\u001b[1;34m'aa.txt'\u001b[0m\u001b[1;33m,\u001b[0m \u001b[1;34m'r'\u001b[0m\u001b[1;33m)\u001b[0m\u001b[1;33m\u001b[0m\u001b[0m\n\u001b[0m",
      "\u001b[1;31mIOError\u001b[0m: [Errno 2] No such file or directory: 'aa.txt'"
     ]
    }
   ],
   "source": [
    "f = open('aa.txt', 'r')"
   ]
  },
  {
   "cell_type": "code",
   "execution_count": 13,
   "metadata": {},
   "outputs": [
    {
     "name": "stdout",
     "output_type": "stream",
     "text": [
      "integer division or modulo by zero\n",
      "False\n"
     ]
    }
   ],
   "source": [
    "try:\n",
    "    f = open('aa.txt', 'r')\n",
    "    print 5/0\n",
    "    f.close()\n",
    "except ZeroDivisionError as e:\n",
    "    print e\n",
    "print f.closed"
   ]
  },
  {
   "cell_type": "code",
   "execution_count": 14,
   "metadata": {},
   "outputs": [
    {
     "name": "stdout",
     "output_type": "stream",
     "text": [
      "False\n"
     ]
    }
   ],
   "source": [
    "try:\n",
    "    f = open('aa.txt', 'r')\n",
    "except ZeroDivisionError as e:\n",
    "    print e\n",
    "    f.close()\n",
    "print f.closed"
   ]
  },
  {
   "cell_type": "code",
   "execution_count": 15,
   "metadata": {},
   "outputs": [
    {
     "name": "stdout",
     "output_type": "stream",
     "text": [
      "integer division or modulo by zero\n",
      "True\n"
     ]
    }
   ],
   "source": [
    "try:\n",
    "    f = open('aa.txt', 'r')\n",
    "    print 5/0\n",
    "except ZeroDivisionError as e:\n",
    "    print e\n",
    "finally:\n",
    "    f.close()\n",
    "print f.closed"
   ]
  },
  {
   "cell_type": "code",
   "execution_count": 16,
   "metadata": {},
   "outputs": [
    {
     "name": "stdout",
     "output_type": "stream",
     "text": [
      "True\n"
     ]
    }
   ],
   "source": [
    "try:\n",
    "    f = open('aa.txt', 'r')\n",
    "except ZeroDivisionError as e:\n",
    "    print e\n",
    "finally:\n",
    "    f.close()\n",
    "print f.closed"
   ]
  },
  {
   "cell_type": "code",
   "execution_count": 17,
   "metadata": {},
   "outputs": [
    {
     "name": "stdout",
     "output_type": "stream",
     "text": [
      "True\n"
     ]
    }
   ],
   "source": [
    "try:\n",
    "    f = open('aa.txt', 'r')\n",
    "except ZeroDivisionError as e:\n",
    "    print e\n",
    "f.close()\n",
    "print f.closed"
   ]
  },
  {
   "cell_type": "code",
   "execution_count": 18,
   "metadata": {},
   "outputs": [
    {
     "name": "stdout",
     "output_type": "stream",
     "text": [
      "10\n"
     ]
    }
   ],
   "source": [
    "def myfun():\n",
    "    try:\n",
    "        return 10\n",
    "    except:\n",
    "        return 20\n",
    "    return 30\n",
    "print myfun()"
   ]
  },
  {
   "cell_type": "code",
   "execution_count": 19,
   "metadata": {},
   "outputs": [
    {
     "name": "stdout",
     "output_type": "stream",
     "text": [
      "20\n"
     ]
    }
   ],
   "source": [
    "def myfun():\n",
    "    try:\n",
    "        5/0\n",
    "        return 10\n",
    "    except:\n",
    "        return 20\n",
    "    return 30\n",
    "print myfun()"
   ]
  },
  {
   "cell_type": "code",
   "execution_count": 20,
   "metadata": {},
   "outputs": [
    {
     "name": "stdout",
     "output_type": "stream",
     "text": [
      "30\n"
     ]
    }
   ],
   "source": [
    "def myfun():\n",
    "    try:\n",
    "        5/0\n",
    "        return 10\n",
    "    except:\n",
    "        return 20\n",
    "    finally:\n",
    "        return 30\n",
    "print myfun()"
   ]
  },
  {
   "cell_type": "code",
   "execution_count": 22,
   "metadata": {},
   "outputs": [
    {
     "name": "stdout",
     "output_type": "stream",
     "text": [
      "30\n"
     ]
    }
   ],
   "source": [
    "def myfun():\n",
    "    try:\n",
    "        return 10\n",
    "    except:\n",
    "        return 20\n",
    "    finally:\n",
    "        return 30\n",
    "print myfun()"
   ]
  },
  {
   "cell_type": "code",
   "execution_count": 24,
   "metadata": {},
   "outputs": [
    {
     "name": "stdout",
     "output_type": "stream",
     "text": [
      "enter username python\n",
      "invalid credentials\n"
     ]
    }
   ],
   "source": [
    "#custom exceptions\n",
    "class MyExceptions(Exception):\n",
    "    pass\n",
    "class InvalidUsername(MyExceptions):\n",
    "    def __init__(self, msg):\n",
    "        super(InvalidUsername, self).__init__(msg)\n",
    "        self.msg =  msg\n",
    "username = raw_input(\"enter username \")\n",
    "try:\n",
    "    if username == \"python\":\n",
    "        raise InvalidUsername(\"invalid credentials\")\n",
    "except InvalidUsername as e:\n",
    "    print e"
   ]
  },
  {
   "cell_type": "code",
   "execution_count": 25,
   "metadata": {},
   "outputs": [
    {
     "name": "stdout",
     "output_type": "stream",
     "text": [
      "enter username python\n"
     ]
    },
    {
     "ename": "NameError",
     "evalue": "name 'InvalidPassword' is not defined",
     "output_type": "error",
     "traceback": [
      "\u001b[1;31m--------------------------------------------------------------\u001b[0m",
      "\u001b[1;31mNameError\u001b[0m                    Traceback (most recent call last)",
      "\u001b[1;32m<ipython-input-25-1966319e7220>\u001b[0m in \u001b[0;36m<module>\u001b[1;34m()\u001b[0m\n\u001b[0;32m     10\u001b[0m     \u001b[1;32mif\u001b[0m \u001b[0musername\u001b[0m \u001b[1;33m==\u001b[0m \u001b[1;34m\"python\"\u001b[0m\u001b[1;33m:\u001b[0m\u001b[1;33m\u001b[0m\u001b[0m\n\u001b[0;32m     11\u001b[0m         \u001b[1;32mraise\u001b[0m \u001b[0mInvalidPassword\u001b[0m\u001b[1;33m(\u001b[0m\u001b[1;34m\"invalid credentials\"\u001b[0m\u001b[1;33m)\u001b[0m\u001b[1;33m\u001b[0m\u001b[0m\n\u001b[1;32m---> 12\u001b[1;33m \u001b[1;32mexcept\u001b[0m \u001b[0mInvalidPassword\u001b[0m \u001b[1;32mas\u001b[0m \u001b[0me\u001b[0m\u001b[1;33m:\u001b[0m\u001b[1;33m\u001b[0m\u001b[0m\n\u001b[0m\u001b[0;32m     13\u001b[0m     \u001b[1;32mprint\u001b[0m \u001b[0me\u001b[0m\u001b[1;33m\u001b[0m\u001b[0m\n",
      "\u001b[1;31mNameError\u001b[0m: name 'InvalidPassword' is not defined"
     ]
    }
   ],
   "source": [
    "#custom exceptions\n",
    "class MyExceptions(Exception):\n",
    "    pass\n",
    "class InvalidUsername(MyExceptions):\n",
    "    def __init__(self, msg):\n",
    "        super(InvalidUsername, self).__init__(msg)\n",
    "        self.msg =  msg\n",
    "username = raw_input(\"enter username \")\n",
    "try:\n",
    "    if username == \"python\":\n",
    "        raise InvalidPassword(\"invalid credentials\")\n",
    "except InvalidPassword as e:\n",
    "    print e"
   ]
  },
  {
   "cell_type": "code",
   "execution_count": 26,
   "metadata": {},
   "outputs": [
    {
     "name": "stdout",
     "output_type": "stream",
     "text": [
      "I am in else\n",
      "True\n"
     ]
    }
   ],
   "source": [
    "try:\n",
    "    f = open('aa.txt', 'r')\n",
    "    \n",
    "except ZeroDivisionError as e:\n",
    "    print e\n",
    "else:\n",
    "    print \"I am in else\"\n",
    "finally:\n",
    "    f.close()\n",
    "print f.closed"
   ]
  },
  {
   "cell_type": "code",
   "execution_count": 27,
   "metadata": {},
   "outputs": [
    {
     "name": "stdout",
     "output_type": "stream",
     "text": [
      "integer division or modulo by zero\n",
      "True\n"
     ]
    }
   ],
   "source": [
    "try:\n",
    "    f = open('aa.txt', 'r')\n",
    "    5/0\n",
    "except ZeroDivisionError as e:\n",
    "    print e\n",
    "else:\n",
    "    print \"I am in else\"\n",
    "finally:\n",
    "    f.close()\n",
    "print f.closed"
   ]
  },
  {
   "cell_type": "code",
   "execution_count": null,
   "metadata": {
    "collapsed": true
   },
   "outputs": [],
   "source": []
  }
 ],
 "metadata": {
  "kernelspec": {
   "display_name": "Python 2",
   "language": "python",
   "name": "python2"
  },
  "language_info": {
   "codemirror_mode": {
    "name": "ipython",
    "version": 2
   },
   "file_extension": ".py",
   "mimetype": "text/x-python",
   "name": "python",
   "nbconvert_exporter": "python",
   "pygments_lexer": "ipython2",
   "version": "2.7.13"
  }
 },
 "nbformat": 4,
 "nbformat_minor": 2
}

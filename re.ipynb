{
 "cells": [
  {
   "cell_type": "code",
   "execution_count": 1,
   "metadata": {
    "collapsed": true
   },
   "outputs": [],
   "source": [
    "a = \"My mobile is 91-1234567890\"\n",
    "import re"
   ]
  },
  {
   "cell_type": "code",
   "execution_count": 2,
   "metadata": {},
   "outputs": [
    {
     "name": "stdout",
     "output_type": "stream",
     "text": [
      "<_sre.SRE_Pattern object at 0x037AF3F8>\n"
     ]
    }
   ],
   "source": [
    "#91-\\d\\d\\d\\d\\d\\d\\d\\d\\d\\d\n",
    "var = re.compile(r'91-\\d\\d\\d\\d\\d\\d\\d\\d\\d\\d')\n",
    "print var"
   ]
  },
  {
   "cell_type": "code",
   "execution_count": 3,
   "metadata": {
    "collapsed": true
   },
   "outputs": [],
   "source": [
    "x = var.search(a)"
   ]
  },
  {
   "cell_type": "code",
   "execution_count": 4,
   "metadata": {},
   "outputs": [
    {
     "name": "stdout",
     "output_type": "stream",
     "text": [
      "<_sre.SRE_Match object at 0x03AA3988>\n"
     ]
    }
   ],
   "source": [
    "print x"
   ]
  },
  {
   "cell_type": "code",
   "execution_count": 5,
   "metadata": {},
   "outputs": [
    {
     "name": "stdout",
     "output_type": "stream",
     "text": [
      "91-1234567890\n"
     ]
    }
   ],
   "source": [
    "print x.group()"
   ]
  },
  {
   "cell_type": "code",
   "execution_count": 6,
   "metadata": {
    "collapsed": true
   },
   "outputs": [],
   "source": [
    "var = re.compile(r'91-\\d\\d\\d\\d\\d\\d\\d\\d\\d\\d\\d\\d')\n",
    "x = var.search(a)"
   ]
  },
  {
   "cell_type": "code",
   "execution_count": 7,
   "metadata": {},
   "outputs": [
    {
     "name": "stdout",
     "output_type": "stream",
     "text": [
      "None\n"
     ]
    }
   ],
   "source": [
    "print x"
   ]
  },
  {
   "cell_type": "code",
   "execution_count": 10,
   "metadata": {},
   "outputs": [
    {
     "ename": "AttributeError",
     "evalue": "'NoneType' object has no attribute 'group'",
     "output_type": "error",
     "traceback": [
      "\u001b[1;31m--------------------------------------------------------------\u001b[0m",
      "\u001b[1;31mAttributeError\u001b[0m               Traceback (most recent call last)",
      "\u001b[1;32m<ipython-input-10-f45cc10fcaf8>\u001b[0m in \u001b[0;36m<module>\u001b[1;34m()\u001b[0m\n\u001b[0;32m      2\u001b[0m \u001b[0mvar\u001b[0m \u001b[1;33m=\u001b[0m \u001b[0mre\u001b[0m\u001b[1;33m.\u001b[0m\u001b[0mcompile\u001b[0m\u001b[1;33m(\u001b[0m\u001b[1;34mr'91-\\d\\d\\d\\d\\d\\d\\d\\d\\d\\d\\s'\u001b[0m\u001b[1;33m)\u001b[0m\u001b[1;33m\u001b[0m\u001b[0m\n\u001b[0;32m      3\u001b[0m \u001b[0mx\u001b[0m \u001b[1;33m=\u001b[0m \u001b[0mvar\u001b[0m\u001b[1;33m.\u001b[0m\u001b[0msearch\u001b[0m\u001b[1;33m(\u001b[0m\u001b[0ma\u001b[0m\u001b[1;33m)\u001b[0m\u001b[1;33m\u001b[0m\u001b[0m\n\u001b[1;32m----> 4\u001b[1;33m \u001b[1;32mprint\u001b[0m \u001b[0mx\u001b[0m\u001b[1;33m.\u001b[0m\u001b[0mgroup\u001b[0m\u001b[1;33m(\u001b[0m\u001b[1;33m)\u001b[0m\u001b[1;33m\u001b[0m\u001b[0m\n\u001b[0m",
      "\u001b[1;31mAttributeError\u001b[0m: 'NoneType' object has no attribute 'group'"
     ]
    }
   ],
   "source": [
    "a = \"My mobile is 91-1234567890123\"\n",
    "var = re.compile(r'91-\\d\\d\\d\\d\\d\\d\\d\\d\\d\\d\\s')\n",
    "x = var.search(a)\n",
    "print x.group()"
   ]
  },
  {
   "cell_type": "code",
   "execution_count": 11,
   "metadata": {},
   "outputs": [
    {
     "name": "stdout",
     "output_type": "stream",
     "text": [
      "91-1234567890 \n"
     ]
    }
   ],
   "source": [
    "a = \"My mobile is 91-1234567890 123\"\n",
    "var = re.compile(r'91-\\d\\d\\d\\d\\d\\d\\d\\d\\d\\d\\s')\n",
    "x = var.search(a)\n",
    "print x.group()"
   ]
  },
  {
   "cell_type": "code",
   "execution_count": 12,
   "metadata": {},
   "outputs": [
    {
     "name": "stdout",
     "output_type": "stream",
     "text": [
      "91-1234567890 \n"
     ]
    }
   ],
   "source": [
    "a = \"My mobile is 91-1234567890 123\"\n",
    "var = re.compile(r'91-\\d{10}\\s')\n",
    "x = var.search(a)\n",
    "print x.group()"
   ]
  },
  {
   "cell_type": "code",
   "execution_count": 13,
   "metadata": {},
   "outputs": [
    {
     "ename": "AttributeError",
     "evalue": "'NoneType' object has no attribute 'group'",
     "output_type": "error",
     "traceback": [
      "\u001b[1;31m--------------------------------------------------------------\u001b[0m",
      "\u001b[1;31mAttributeError\u001b[0m               Traceback (most recent call last)",
      "\u001b[1;32m<ipython-input-13-7d03c687871e>\u001b[0m in \u001b[0;36m<module>\u001b[1;34m()\u001b[0m\n\u001b[0;32m      2\u001b[0m \u001b[0mvar\u001b[0m \u001b[1;33m=\u001b[0m \u001b[0mre\u001b[0m\u001b[1;33m.\u001b[0m\u001b[0mcompile\u001b[0m\u001b[1;33m(\u001b[0m\u001b[1;34mr'91-\\d{10}\\s'\u001b[0m\u001b[1;33m)\u001b[0m\u001b[1;33m\u001b[0m\u001b[0m\n\u001b[0;32m      3\u001b[0m \u001b[0mx\u001b[0m \u001b[1;33m=\u001b[0m \u001b[0mvar\u001b[0m\u001b[1;33m.\u001b[0m\u001b[0msearch\u001b[0m\u001b[1;33m(\u001b[0m\u001b[0ma\u001b[0m\u001b[1;33m)\u001b[0m\u001b[1;33m\u001b[0m\u001b[0m\n\u001b[1;32m----> 4\u001b[1;33m \u001b[1;32mprint\u001b[0m \u001b[0mx\u001b[0m\u001b[1;33m.\u001b[0m\u001b[0mgroup\u001b[0m\u001b[1;33m(\u001b[0m\u001b[1;33m)\u001b[0m\u001b[1;33m\u001b[0m\u001b[0m\n\u001b[0m",
      "\u001b[1;31mAttributeError\u001b[0m: 'NoneType' object has no attribute 'group'"
     ]
    }
   ],
   "source": [
    "a = \"My mobile is 91-123456789 123\"\n",
    "var = re.compile(r'91-\\d{10}\\s')\n",
    "x = var.search(a)\n",
    "print x.group()"
   ]
  },
  {
   "cell_type": "code",
   "execution_count": 14,
   "metadata": {},
   "outputs": [
    {
     "name": "stdout",
     "output_type": "stream",
     "text": [
      "91-123456789 \n"
     ]
    }
   ],
   "source": [
    "a = \"My mobile is 91-123456789 123\"\n",
    "var = re.compile(r'91-\\d{8,10}\\s')\n",
    "x = var.search(a)\n",
    "print x.group()"
   ]
  },
  {
   "cell_type": "code",
   "execution_count": 15,
   "metadata": {},
   "outputs": [
    {
     "name": "stdout",
     "output_type": "stream",
     "text": [
      "91-123456789 \n"
     ]
    }
   ],
   "source": [
    "a = \"My mobile is 91-123456789 123\"\n",
    "var = re.compile(r'91-\\d{,10}\\s')\n",
    "x = var.search(a)\n",
    "print x.group()"
   ]
  },
  {
   "cell_type": "code",
   "execution_count": 16,
   "metadata": {},
   "outputs": [
    {
     "name": "stdout",
     "output_type": "stream",
     "text": [
      "91-123456789 \n"
     ]
    }
   ],
   "source": [
    "a = \"My mobile is 91-123456789 123\"\n",
    "var = re.compile(r'91-\\d{5,}\\s')\n",
    "x = var.search(a)\n",
    "print x.group()"
   ]
  },
  {
   "cell_type": "code",
   "execution_count": 17,
   "metadata": {},
   "outputs": [
    {
     "name": "stdout",
     "output_type": "stream",
     "text": [
      "91-1234567 \n"
     ]
    }
   ],
   "source": [
    "a = \"My mobile is 91-1234567 123\"\n",
    "var = re.compile(r'91-\\d{5,}\\s')\n",
    "x = var.search(a)\n",
    "print x.group()"
   ]
  },
  {
   "cell_type": "code",
   "execution_count": 18,
   "metadata": {},
   "outputs": [
    {
     "ename": "AttributeError",
     "evalue": "'NoneType' object has no attribute 'group'",
     "output_type": "error",
     "traceback": [
      "\u001b[1;31m--------------------------------------------------------------\u001b[0m",
      "\u001b[1;31mAttributeError\u001b[0m               Traceback (most recent call last)",
      "\u001b[1;32m<ipython-input-18-7e4d4d1f0684>\u001b[0m in \u001b[0;36m<module>\u001b[1;34m()\u001b[0m\n\u001b[0;32m      2\u001b[0m \u001b[0mvar\u001b[0m \u001b[1;33m=\u001b[0m \u001b[0mre\u001b[0m\u001b[1;33m.\u001b[0m\u001b[0mcompile\u001b[0m\u001b[1;33m(\u001b[0m\u001b[1;34mr'91-\\d{5,}\\s'\u001b[0m\u001b[1;33m)\u001b[0m\u001b[1;33m\u001b[0m\u001b[0m\n\u001b[0;32m      3\u001b[0m \u001b[0mx\u001b[0m \u001b[1;33m=\u001b[0m \u001b[0mvar\u001b[0m\u001b[1;33m.\u001b[0m\u001b[0msearch\u001b[0m\u001b[1;33m(\u001b[0m\u001b[0ma\u001b[0m\u001b[1;33m)\u001b[0m\u001b[1;33m\u001b[0m\u001b[0m\n\u001b[1;32m----> 4\u001b[1;33m \u001b[1;32mprint\u001b[0m \u001b[0mx\u001b[0m\u001b[1;33m.\u001b[0m\u001b[0mgroup\u001b[0m\u001b[1;33m(\u001b[0m\u001b[1;33m)\u001b[0m\u001b[1;33m\u001b[0m\u001b[0m\n\u001b[0m",
      "\u001b[1;31mAttributeError\u001b[0m: 'NoneType' object has no attribute 'group'"
     ]
    }
   ],
   "source": [
    "a = \"My mobile is 91-1234567123\"\n",
    "var = re.compile(r'91-\\d{5,}\\s')\n",
    "x = var.search(a)\n",
    "print x.group()"
   ]
  },
  {
   "cell_type": "code",
   "execution_count": 19,
   "metadata": {},
   "outputs": [
    {
     "ename": "AttributeError",
     "evalue": "'NoneType' object has no attribute 'group'",
     "output_type": "error",
     "traceback": [
      "\u001b[1;31m--------------------------------------------------------------\u001b[0m",
      "\u001b[1;31mAttributeError\u001b[0m               Traceback (most recent call last)",
      "\u001b[1;32m<ipython-input-19-e4a8a5c6c509>\u001b[0m in \u001b[0;36m<module>\u001b[1;34m()\u001b[0m\n\u001b[0;32m      2\u001b[0m \u001b[0mvar\u001b[0m \u001b[1;33m=\u001b[0m \u001b[0mre\u001b[0m\u001b[1;33m.\u001b[0m\u001b[0mcompile\u001b[0m\u001b[1;33m(\u001b[0m\u001b[1;34mr'91-\\d{5,}\\s'\u001b[0m\u001b[1;33m)\u001b[0m\u001b[1;33m\u001b[0m\u001b[0m\n\u001b[0;32m      3\u001b[0m \u001b[0mx\u001b[0m \u001b[1;33m=\u001b[0m \u001b[0mvar\u001b[0m\u001b[1;33m.\u001b[0m\u001b[0msearch\u001b[0m\u001b[1;33m(\u001b[0m\u001b[0ma\u001b[0m\u001b[1;33m)\u001b[0m\u001b[1;33m\u001b[0m\u001b[0m\n\u001b[1;32m----> 4\u001b[1;33m \u001b[1;32mprint\u001b[0m \u001b[0mx\u001b[0m\u001b[1;33m.\u001b[0m\u001b[0mgroup\u001b[0m\u001b[1;33m(\u001b[0m\u001b[1;33m)\u001b[0m\u001b[1;33m\u001b[0m\u001b[0m\n\u001b[0m",
      "\u001b[1;31mAttributeError\u001b[0m: 'NoneType' object has no attribute 'group'"
     ]
    }
   ],
   "source": [
    "a = \"My mobile is 91-1234 567123\"\n",
    "var = re.compile(r'91-\\d{5,}\\s')\n",
    "x = var.search(a)\n",
    "print x.group()"
   ]
  },
  {
   "cell_type": "code",
   "execution_count": 21,
   "metadata": {},
   "outputs": [
    {
     "name": "stdout",
     "output_type": "stream",
     "text": [
      "91-1234567123 \n"
     ]
    }
   ],
   "source": [
    "a = \"My mobile is 91-1234567123 \"\n",
    "var = re.compile(r'91-\\d{5,}\\s')\n",
    "x = var.search(a)\n",
    "print x.group()"
   ]
  },
  {
   "cell_type": "code",
   "execution_count": 22,
   "metadata": {},
   "outputs": [
    {
     "name": "stdout",
     "output_type": "stream",
     "text": [
      "91-1234567123.\n"
     ]
    }
   ],
   "source": [
    "a = \"My mobile is 91-1234567123.\"\n",
    "var = re.compile(r'91-\\d{5,}(\\s|\\.)')\n",
    "x = var.search(a)\n",
    "print x.group()"
   ]
  },
  {
   "cell_type": "code",
   "execution_count": 23,
   "metadata": {},
   "outputs": [
    {
     "name": "stdout",
     "output_type": "stream",
     "text": [
      "91-1234567123 \n"
     ]
    }
   ],
   "source": [
    "a = \"My mobile is 91-1234567123 \"\n",
    "var = re.compile(r'91-\\d{5,}(\\s|\\.)')\n",
    "x = var.search(a)\n",
    "print x.group()"
   ]
  },
  {
   "cell_type": "code",
   "execution_count": 25,
   "metadata": {},
   "outputs": [
    {
     "name": "stdout",
     "output_type": "stream",
     "text": [
      ".\n"
     ]
    }
   ],
   "source": [
    "a = \"My mobile is 91-1234567123.\"\n",
    "var = re.compile(r'91-\\d{5,}\\s|\\.')\n",
    "x = var.search(a)\n",
    "print x.group()"
   ]
  },
  {
   "cell_type": "code",
   "execution_count": 26,
   "metadata": {},
   "outputs": [
    {
     "name": "stdout",
     "output_type": "stream",
     "text": [
      "91-12345\n"
     ]
    }
   ],
   "source": [
    "a = \"My mobile is 91-1234567123\"\n",
    "var = re.compile(r'91-\\d{5,}?')\n",
    "x = var.search(a)\n",
    "print x.group()"
   ]
  },
  {
   "cell_type": "code",
   "execution_count": 27,
   "metadata": {},
   "outputs": [
    {
     "name": "stdout",
     "output_type": "stream",
     "text": [
      "91-1234567123\n"
     ]
    }
   ],
   "source": [
    "a = \"My mobile is 91-1234567123\"\n",
    "var = re.compile(r'91-\\d{5,}')\n",
    "x = var.search(a)\n",
    "print x.group()"
   ]
  },
  {
   "cell_type": "code",
   "execution_count": 28,
   "metadata": {},
   "outputs": [
    {
     "name": "stdout",
     "output_type": "stream",
     "text": [
      "91-12345\n"
     ]
    }
   ],
   "source": [
    "a = \"My mobile is 91-1234567123\"\n",
    "var = re.compile(r'91-\\d{5,}?')\n",
    "x = var.search(a)\n",
    "print x.group()"
   ]
  },
  {
   "cell_type": "code",
   "execution_count": 30,
   "metadata": {},
   "outputs": [
    {
     "name": "stdout",
     "output_type": "stream",
     "text": [
      "91-12345\n"
     ]
    }
   ],
   "source": [
    "a = \"My mobile is 91-1234567890 \"\n",
    "#var = re.compile(r'91-\\d{5,}?')\n",
    "x = re.search(r'91-\\d{5,}?', a)\n",
    "print x.group()"
   ]
  },
  {
   "cell_type": "code",
   "execution_count": 33,
   "metadata": {},
   "outputs": [
    {
     "name": "stdout",
     "output_type": "stream",
     "text": [
      "91-1234567890 \n"
     ]
    }
   ],
   "source": [
    "a = \"My mobile is 91-1234567890 \"\n",
    "#var = re.compile(r'91-(\\d{10})\\s')\n",
    "x = re.search(r'91-(\\d{10})\\s', a)\n",
    "print x.group()"
   ]
  },
  {
   "cell_type": "code",
   "execution_count": 34,
   "metadata": {},
   "outputs": [
    {
     "name": "stdout",
     "output_type": "stream",
     "text": [
      "1234567890\n"
     ]
    }
   ],
   "source": [
    "print x.group(1)"
   ]
  },
  {
   "cell_type": "code",
   "execution_count": 36,
   "metadata": {},
   "outputs": [
    {
     "name": "stdout",
     "output_type": "stream",
     "text": [
      "91-1234567890 \n"
     ]
    }
   ],
   "source": [
    "a = \"My mobile is 91-1234567890 \"\n",
    "x = re.search(r'(91-)(\\d{10})\\s', a)\n",
    "print x.group()"
   ]
  },
  {
   "cell_type": "code",
   "execution_count": 37,
   "metadata": {},
   "outputs": [
    {
     "name": "stdout",
     "output_type": "stream",
     "text": [
      "91-\n"
     ]
    }
   ],
   "source": [
    "print x.group(1)"
   ]
  },
  {
   "cell_type": "code",
   "execution_count": 38,
   "metadata": {},
   "outputs": [
    {
     "name": "stdout",
     "output_type": "stream",
     "text": [
      "1234567890\n"
     ]
    }
   ],
   "source": [
    "print x.group(2)"
   ]
  },
  {
   "cell_type": "code",
   "execution_count": 40,
   "metadata": {},
   "outputs": [
    {
     "name": "stdout",
     "output_type": "stream",
     "text": [
      "91-1234567890\n"
     ]
    }
   ],
   "source": [
    "a = \"My mobile is 91-1234567890 and my friend mobile is 91-0987654321\"\n",
    "x = re.search(r'91-\\d{10}', a)\n",
    "print x.group()"
   ]
  },
  {
   "cell_type": "code",
   "execution_count": 42,
   "metadata": {},
   "outputs": [
    {
     "name": "stdout",
     "output_type": "stream",
     "text": [
      "['91-1234567890', '91-0987654321']\n"
     ]
    }
   ],
   "source": [
    "a = \"My mobile is 91-1234567890 and my friend mobile is 91-0987654321\"\n",
    "x = re.findall(r'91-\\d{10}', a)\n",
    "print x"
   ]
  },
  {
   "cell_type": "code",
   "execution_count": 43,
   "metadata": {},
   "outputs": [
    {
     "name": "stdout",
     "output_type": "stream",
     "text": [
      "['1234567890', '0987654321']\n"
     ]
    }
   ],
   "source": [
    "a = \"My mobile is 91-1234567890 and my friend mobile is 91-0987654321\"\n",
    "x = re.findall(r'91-(\\d{10})', a)\n",
    "print x"
   ]
  },
  {
   "cell_type": "code",
   "execution_count": 44,
   "metadata": {},
   "outputs": [
    {
     "name": "stdout",
     "output_type": "stream",
     "text": [
      "[('91-', '1234567890'), ('91-', '0987654321')]\n"
     ]
    }
   ],
   "source": [
    "a = \"My mobile is 91-1234567890 and my friend mobile is 91-0987654321\"\n",
    "x = re.findall(r'(91-)(\\d{10})', a)\n",
    "print x"
   ]
  },
  {
   "cell_type": "code",
   "execution_count": 45,
   "metadata": {},
   "outputs": [
    {
     "name": "stdout",
     "output_type": "stream",
     "text": [
      "08:30 AM\n"
     ]
    }
   ],
   "source": [
    "#character class  -----> []\n",
    "a = \"This is a python class. This class starts at 08:30 AM in Asian timezone\"\n",
    "#\\d{1,2}:\\d{2} (A|P)M\n",
    "x = re.search(r'\\d{1,2}:\\d{2} (A|P)M', a)\n",
    "print x.group()"
   ]
  },
  {
   "cell_type": "code",
   "execution_count": 46,
   "metadata": {},
   "outputs": [
    {
     "ename": "AttributeError",
     "evalue": "'NoneType' object has no attribute 'group'",
     "output_type": "error",
     "traceback": [
      "\u001b[1;31m--------------------------------------------------------------\u001b[0m",
      "\u001b[1;31mAttributeError\u001b[0m               Traceback (most recent call last)",
      "\u001b[1;32m<ipython-input-46-8b7ef2c62ae2>\u001b[0m in \u001b[0;36m<module>\u001b[1;34m()\u001b[0m\n\u001b[0;32m      3\u001b[0m \u001b[1;31m#\\d{1,2}:\\d{2} (A|P)M\u001b[0m\u001b[1;33m\u001b[0m\u001b[1;33m\u001b[0m\u001b[0m\n\u001b[0;32m      4\u001b[0m \u001b[0mx\u001b[0m \u001b[1;33m=\u001b[0m \u001b[0mre\u001b[0m\u001b[1;33m.\u001b[0m\u001b[0msearch\u001b[0m\u001b[1;33m(\u001b[0m\u001b[1;34mr'[0-9]:[0-9] (A|P)M'\u001b[0m\u001b[1;33m,\u001b[0m \u001b[0ma\u001b[0m\u001b[1;33m)\u001b[0m\u001b[1;33m\u001b[0m\u001b[0m\n\u001b[1;32m----> 5\u001b[1;33m \u001b[1;32mprint\u001b[0m \u001b[0mx\u001b[0m\u001b[1;33m.\u001b[0m\u001b[0mgroup\u001b[0m\u001b[1;33m(\u001b[0m\u001b[1;33m)\u001b[0m\u001b[1;33m\u001b[0m\u001b[0m\n\u001b[0m",
      "\u001b[1;31mAttributeError\u001b[0m: 'NoneType' object has no attribute 'group'"
     ]
    }
   ],
   "source": [
    "#character class  -----> []\n",
    "a = \"This is a python class. This class starts at 08:30 AM in Asian timezone\"\n",
    "#\\d{1,2}:\\d{2} (A|P)M\n",
    "x = re.search(r'[0-9]:[0-9] (A|P)M', a)\n",
    "print x.group()"
   ]
  },
  {
   "cell_type": "code",
   "execution_count": 47,
   "metadata": {},
   "outputs": [
    {
     "name": "stdout",
     "output_type": "stream",
     "text": [
      "08:30 AM\n"
     ]
    }
   ],
   "source": [
    "#character class  -----> []\n",
    "a = \"This is a python class. This class starts at 08:30 AM in Asian timezone\"\n",
    "#\\d{1,2}:\\d{2} (A|P)M\n",
    "x = re.search(r'[0-9]{1,2}:[0-9]{2} (A|P)M', a)\n",
    "print x.group()"
   ]
  },
  {
   "cell_type": "code",
   "execution_count": 48,
   "metadata": {},
   "outputs": [
    {
     "name": "stdout",
     "output_type": "stream",
     "text": [
      "i\n"
     ]
    }
   ],
   "source": [
    "#character class  -----> []\n",
    "a = \"This is a python class. This class starts at 08:30 AM in Asian timezone\"\n",
    "#\\d{1,2}:\\d{2} (A|P)M\n",
    "x = re.search(r'[aeiou0-9]', a)\n",
    "print x.group()"
   ]
  },
  {
   "cell_type": "code",
   "execution_count": 49,
   "metadata": {},
   "outputs": [
    {
     "name": "stdout",
     "output_type": "stream",
     "text": [
      "['i', 'i', 'a', 'o', 'a', 'i', 'a', 'a', 'a', '0', '8', '3', '0', 'i', 'i', 'a', 'i', 'e', 'o', 'e']\n"
     ]
    }
   ],
   "source": [
    "#character class  -----> []\n",
    "a = \"This is a python class. This class starts at 08:30 AM in Asian timezone\"\n",
    "#\\d{1,2}:\\d{2} (A|P)M\n",
    "x = re.findall(r'[aeiou0-9]', a)\n",
    "print x"
   ]
  },
  {
   "cell_type": "code",
   "execution_count": 50,
   "metadata": {},
   "outputs": [
    {
     "name": "stdout",
     "output_type": "stream",
     "text": [
      "['T', 'h', 's', ' ', 's', ' ', ' ', 'p', 'y', 't', 'h', 'n', ' ', 'c', 'l', 's', 's', '.', ' ', 'T', 'h', 's', ' ', 'c', 'l', 's', 's', ' ', 's', 't', 'r', 't', 's', ' ', 't', ' ', ':', ' ', 'A', 'M', ' ', 'n', ' ', 'A', 's', 'n', ' ', 't', 'm', 'z', 'n']\n"
     ]
    }
   ],
   "source": [
    "#character class  -----> []\n",
    "a = \"This is a python class. This class starts at 08:30 AM in Asian timezone\"\n",
    "#\\d{1,2}:\\d{2} (A|P)M\n",
    "x = re.findall(r'[^aeiou0-9]', a)\n",
    "print x"
   ]
  },
  {
   "cell_type": "code",
   "execution_count": 51,
   "metadata": {},
   "outputs": [
    {
     "name": "stdout",
     "output_type": "stream",
     "text": [
      "['T', 'T', '0', '8', ':', '3', '0', 'A', 'M', 'A']\n"
     ]
    }
   ],
   "source": [
    "#character class  -----> []\n",
    "a = \"This is a python class. This class starts at 08:30 AM in Asian timezone\"\n",
    "#\\d{1,2}:\\d{2} (A|P)M\n",
    "x = re.findall(r'[^a-z\\s\\.]', a)\n",
    "print x"
   ]
  },
  {
   "cell_type": "code",
   "execution_count": 53,
   "metadata": {},
   "outputs": [
    {
     "name": "stdout",
     "output_type": "stream",
     "text": [
      "['0', '8', '3', '0']\n"
     ]
    }
   ],
   "source": [
    "#character class  -----> []\n",
    "a = \"This is a python class. This class starts at 08:30 AM in Asian timezone\"\n",
    "#\\d{1,2}:\\d{2} (A|P)M\n",
    "x = re.findall(r'[^a-zA-Z:\\s\\.]', a)\n",
    "print x"
   ]
  },
  {
   "cell_type": "code",
   "execution_count": 54,
   "metadata": {},
   "outputs": [
    {
     "name": "stdout",
     "output_type": "stream",
     "text": [
      "['0', '8', '3', '0']\n"
     ]
    }
   ],
   "source": [
    "#character class  -----> []\n",
    "a = \"This is a python class. This class starts at 08:30 AM in Asian timezone\"\n",
    "#\\d{1,2}:\\d{2} (A|P)M\n",
    "x = re.findall(r'[^A-z:\\s\\.]', a)\n",
    "print x"
   ]
  },
  {
   "cell_type": "code",
   "execution_count": 55,
   "metadata": {},
   "outputs": [
    {
     "name": "stdout",
     "output_type": "stream",
     "text": [
      "['0', '8', '3', '0']\n"
     ]
    }
   ],
   "source": [
    "#character class  -----> []\n",
    "a = \"This is a python class. This class starts at 08:30 AM in Asian timezone\"\n",
    "#\\d{1,2}:\\d{2} (A|P)M\n",
    "x = re.findall(r'[^a-z:\\s\\.]', a, re.I)\n",
    "print x"
   ]
  },
  {
   "cell_type": "code",
   "execution_count": 56,
   "metadata": {},
   "outputs": [
    {
     "name": "stdout",
     "output_type": "stream",
     "text": [
      "08:30 AM\n"
     ]
    }
   ],
   "source": [
    "#character class  -----> []\n",
    "a = \"This is a python class. This class starts at 08:30 AM in Asian timezone\"\n",
    "#\\d{1,2}:\\d{2} (A|P)M\n",
    "x = re.search(r'[0-9]+:[0-9]+ (A|P)M', a)\n",
    "print x.group()"
   ]
  },
  {
   "cell_type": "code",
   "execution_count": 57,
   "metadata": {},
   "outputs": [
    {
     "name": "stdout",
     "output_type": "stream",
     "text": [
      "class\n"
     ]
    }
   ],
   "source": [
    "#character class  -----> []\n",
    "a = \"This is a python class. This class starts at 08:30 AM in Asian timezone\"\n",
    "#\\d{1,2}:\\d{2} (A|P)M\n",
    "x = re.search(r'clas+', a)\n",
    "print x.group()"
   ]
  },
  {
   "cell_type": "code",
   "execution_count": 58,
   "metadata": {},
   "outputs": [
    {
     "name": "stdout",
     "output_type": "stream",
     "text": [
      "clas\n"
     ]
    }
   ],
   "source": [
    "#character class  -----> []\n",
    "a = \"This is a python class. This class starts at 08:30 AM in Asian timezone\"\n",
    "#\\d{1,2}:\\d{2} (A|P)M\n",
    "x = re.search(r'(clas)+', a)\n",
    "print x.group()"
   ]
  },
  {
   "cell_type": "code",
   "execution_count": 59,
   "metadata": {},
   "outputs": [
    {
     "name": "stdout",
     "output_type": "stream",
     "text": [
      "clas\n"
     ]
    }
   ],
   "source": [
    "#character class  -----> []\n",
    "a = \"This is a python class. This class starts at 08:30 AM in Asian timezone\"\n",
    "#\\d{1,2}:\\d{2} (A|P)M\n",
    "x = re.search(r'clas+?', a)\n",
    "print x.group()"
   ]
  },
  {
   "cell_type": "code",
   "execution_count": 60,
   "metadata": {},
   "outputs": [
    {
     "name": "stdout",
     "output_type": "stream",
     "text": [
      "class.\n"
     ]
    }
   ],
   "source": [
    "#character class  -----> []\n",
    "a = \"This is a python class. This class starts at 08:30 AM in Asian timezone\"\n",
    "#\\d{1,2}:\\d{2} (A|P)M\n",
    "x = re.search(r'(class)?\\.', a)\n",
    "print x.group()"
   ]
  },
  {
   "cell_type": "code",
   "execution_count": 61,
   "metadata": {},
   "outputs": [
    {
     "name": "stdout",
     "output_type": "stream",
     "text": [
      ".\n"
     ]
    }
   ],
   "source": [
    "#character class  -----> []\n",
    "a = \"This is a python class. This class starts at 08:30 AM in Asian timezone\"\n",
    "#\\d{1,2}:\\d{2} (A|P)M\n",
    "x = re.search(r'(classs)?\\.', a)\n",
    "print x.group()"
   ]
  },
  {
   "cell_type": "code",
   "execution_count": 62,
   "metadata": {},
   "outputs": [
    {
     "ename": "AttributeError",
     "evalue": "'NoneType' object has no attribute 'group'",
     "output_type": "error",
     "traceback": [
      "\u001b[1;31m--------------------------------------------------------------\u001b[0m",
      "\u001b[1;31mAttributeError\u001b[0m               Traceback (most recent call last)",
      "\u001b[1;32m<ipython-input-62-dd1679da7946>\u001b[0m in \u001b[0;36m<module>\u001b[1;34m()\u001b[0m\n\u001b[0;32m      3\u001b[0m \u001b[1;31m#\\d{1,2}:\\d{2} (A|P)M\u001b[0m\u001b[1;33m\u001b[0m\u001b[1;33m\u001b[0m\u001b[0m\n\u001b[0;32m      4\u001b[0m \u001b[0mx\u001b[0m \u001b[1;33m=\u001b[0m \u001b[0mre\u001b[0m\u001b[1;33m.\u001b[0m\u001b[0msearch\u001b[0m\u001b[1;33m(\u001b[0m\u001b[1;34mr'\\s(classs)?\\.'\u001b[0m\u001b[1;33m,\u001b[0m \u001b[0ma\u001b[0m\u001b[1;33m)\u001b[0m\u001b[1;33m\u001b[0m\u001b[0m\n\u001b[1;32m----> 5\u001b[1;33m \u001b[1;32mprint\u001b[0m \u001b[0mx\u001b[0m\u001b[1;33m.\u001b[0m\u001b[0mgroup\u001b[0m\u001b[1;33m(\u001b[0m\u001b[1;33m)\u001b[0m\u001b[1;33m\u001b[0m\u001b[0m\n\u001b[0m",
      "\u001b[1;31mAttributeError\u001b[0m: 'NoneType' object has no attribute 'group'"
     ]
    }
   ],
   "source": [
    "#character class  -----> []\n",
    "a = \"This is a python class. This class starts at 08:30 AM in Asian timezone\"\n",
    "#\\d{1,2}:\\d{2} (A|P)M\n",
    "x = re.search(r'\\s(classs)?\\.', a)\n",
    "print x.group()"
   ]
  },
  {
   "cell_type": "code",
   "execution_count": 63,
   "metadata": {},
   "outputs": [
    {
     "name": "stdout",
     "output_type": "stream",
     "text": [
      " class.\n"
     ]
    }
   ],
   "source": [
    "#character class  -----> []\n",
    "a = \"This is a python class. This class starts at 08:30 AM in Asian timezone\"\n",
    "#\\d{1,2}:\\d{2} (A|P)M\n",
    "x = re.search(r'\\s(class)?\\.', a)\n",
    "print x.group()"
   ]
  },
  {
   "cell_type": "code",
   "execution_count": 64,
   "metadata": {},
   "outputs": [
    {
     "name": "stdout",
     "output_type": "stream",
     "text": [
      "class.\n"
     ]
    }
   ],
   "source": [
    "#character class  -----> []\n",
    "a = \"This is a python class. This class starts at 08:30 AM in Asian timezone\"\n",
    "#\\d{1,2}:\\d{2} (A|P)M\n",
    "x = re.search(r'(class)+\\.', a)\n",
    "print x.group()"
   ]
  },
  {
   "cell_type": "code",
   "execution_count": 65,
   "metadata": {},
   "outputs": [
    {
     "ename": "AttributeError",
     "evalue": "'NoneType' object has no attribute 'group'",
     "output_type": "error",
     "traceback": [
      "\u001b[1;31m--------------------------------------------------------------\u001b[0m",
      "\u001b[1;31mAttributeError\u001b[0m               Traceback (most recent call last)",
      "\u001b[1;32m<ipython-input-65-3cec29ccb914>\u001b[0m in \u001b[0;36m<module>\u001b[1;34m()\u001b[0m\n\u001b[0;32m      3\u001b[0m \u001b[1;31m#\\d{1,2}:\\d{2} (A|P)M\u001b[0m\u001b[1;33m\u001b[0m\u001b[1;33m\u001b[0m\u001b[0m\n\u001b[0;32m      4\u001b[0m \u001b[0mx\u001b[0m \u001b[1;33m=\u001b[0m \u001b[0mre\u001b[0m\u001b[1;33m.\u001b[0m\u001b[0msearch\u001b[0m\u001b[1;33m(\u001b[0m\u001b[1;34mr'(classs)+\\.'\u001b[0m\u001b[1;33m,\u001b[0m \u001b[0ma\u001b[0m\u001b[1;33m)\u001b[0m\u001b[1;33m\u001b[0m\u001b[0m\n\u001b[1;32m----> 5\u001b[1;33m \u001b[1;32mprint\u001b[0m \u001b[0mx\u001b[0m\u001b[1;33m.\u001b[0m\u001b[0mgroup\u001b[0m\u001b[1;33m(\u001b[0m\u001b[1;33m)\u001b[0m\u001b[1;33m\u001b[0m\u001b[0m\n\u001b[0m",
      "\u001b[1;31mAttributeError\u001b[0m: 'NoneType' object has no attribute 'group'"
     ]
    }
   ],
   "source": [
    "#character class  -----> []\n",
    "a = \"This is a python class. This class starts at 08:30 AM in Asian timezone\"\n",
    "#\\d{1,2}:\\d{2} (A|P)M\n",
    "x = re.search(r'(classs)+\\.', a)\n",
    "print x.group()"
   ]
  },
  {
   "cell_type": "code",
   "execution_count": 66,
   "metadata": {},
   "outputs": [
    {
     "name": "stdout",
     "output_type": "stream",
     "text": [
      ".\n"
     ]
    }
   ],
   "source": [
    "#character class  -----> []\n",
    "a = \"This is a python class. This class starts at 08:30 AM in Asian timezone\"\n",
    "#\\d{1,2}:\\d{2} (A|P)M\n",
    "x = re.search(r'(classs)*\\.', a)\n",
    "print x.group()"
   ]
  },
  {
   "cell_type": "code",
   "execution_count": 67,
   "metadata": {},
   "outputs": [
    {
     "name": "stdout",
     "output_type": "stream",
     "text": [
      "class.\n"
     ]
    }
   ],
   "source": [
    "#character class  -----> []\n",
    "a = \"This is a python class. This class starts at 08:30 AM in Asian timezone\"\n",
    "#\\d{1,2}:\\d{2} (A|P)M\n",
    "x = re.search(r'(class)*\\.', a)\n",
    "print x.group()"
   ]
  },
  {
   "cell_type": "code",
   "execution_count": 68,
   "metadata": {},
   "outputs": [
    {
     "name": "stdout",
     "output_type": "stream",
     "text": [
      "T\n"
     ]
    }
   ],
   "source": [
    "#character class  -----> []\n",
    "a = \"This is a python class. This class starts at 08:30 AM in Asian timezone\"\n",
    "#\\d{1,2}:\\d{2} (A|P)M\n",
    "x = re.search(r'.', a)\n",
    "print x.group()"
   ]
  },
  {
   "cell_type": "code",
   "execution_count": 69,
   "metadata": {},
   "outputs": [
    {
     "name": "stdout",
     "output_type": "stream",
     "text": [
      "This is a python class. This class starts at 08:30 AM in Asian timezone\n"
     ]
    }
   ],
   "source": [
    "#character class  -----> []\n",
    "a = \"This is a python class. This class starts at 08:30 AM in Asian timezone\"\n",
    "#\\d{1,2}:\\d{2} (A|P)M\n",
    "x = re.search(r'.+', a)\n",
    "print x.group()"
   ]
  },
  {
   "cell_type": "code",
   "execution_count": 73,
   "metadata": {},
   "outputs": [
    {
     "name": "stdout",
     "output_type": "stream",
     "text": [
      "08:30 AM\n"
     ]
    }
   ],
   "source": [
    "#character class  -----> []\n",
    "a = \"This is a python class. This class starts at 08:30 AM in Asian timezone\"\n",
    "#\\d{1,2}:\\d{2} (A|P)M\n",
    "x = re.search(r'(?P<time>(\\d{1,2}:\\d{2} (A|P)M))', a)\n",
    "print x.group()"
   ]
  },
  {
   "cell_type": "code",
   "execution_count": 74,
   "metadata": {},
   "outputs": [
    {
     "name": "stdout",
     "output_type": "stream",
     "text": [
      "08:30 AM\n"
     ]
    }
   ],
   "source": [
    "print x.group('time')"
   ]
  },
  {
   "cell_type": "code",
   "execution_count": null,
   "metadata": {
    "collapsed": true
   },
   "outputs": [],
   "source": []
  }
 ],
 "metadata": {
  "kernelspec": {
   "display_name": "Python 2",
   "language": "python",
   "name": "python2"
  },
  "language_info": {
   "codemirror_mode": {
    "name": "ipython",
    "version": 2
   },
   "file_extension": ".py",
   "mimetype": "text/x-python",
   "name": "python",
   "nbconvert_exporter": "python",
   "pygments_lexer": "ipython2",
   "version": "2.7.13"
  }
 },
 "nbformat": 4,
 "nbformat_minor": 2
}

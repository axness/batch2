{
 "cells": [
  {
   "cell_type": "code",
   "execution_count": 2,
   "metadata": {},
   "outputs": [
    {
     "name": "stdout",
     "output_type": "stream",
     "text": [
      "enter\n",
      " 1. to submit a book \n",
      " 2. to take a book2\n",
      " python\n",
      "django\n",
      "enter the book from above listpython\n",
      "available books with you are  python\n"
     ]
    }
   ],
   "source": [
    "class Library():\n",
    "    def __init__(self, books):\n",
    "        self.available_books = books\n",
    "    def display(self):\n",
    "        return \"\\n\".join(self.available_books)\n",
    "    def add_book(self, book):\n",
    "        self.available_books.append(book)\n",
    "        return \"successfully added\"\n",
    "    def remove_book(self, book):\n",
    "        self.available_books.remove(book)\n",
    "class Customer():\n",
    "    def __init__(self):\n",
    "        self.taken_books = []\n",
    "    def submit_book(self, book):\n",
    "        self.taken_books.remove(book)\n",
    "    def take_book(self, book):\n",
    "        self.taken_books.append(book)\n",
    "l = Library(['python', 'django'])\n",
    "c = Customer()\n",
    "task = raw_input(\"enter\\n 1. to submit a book \\n 2. to take a book\")\n",
    "if task == \"1\":\n",
    "    print \"\\n\".join(c.taken_books)\n",
    "    book = raw_input(\"enter book name above list\")\n",
    "    c.submit_book(book)\n",
    "    l.add_book(book)\n",
    "elif task == \"2\":\n",
    "    print l.display()\n",
    "    book = raw_input(\"enter the book from above list\")\n",
    "    l.remove_book(book)\n",
    "    c.take_book(book)\n",
    "    print \"available books with you are \",\n",
    "    print \"\\n\".join(c.taken_books)"
   ]
  },
  {
   "cell_type": "code",
   "execution_count": null,
   "metadata": {
    "collapsed": true
   },
   "outputs": [],
   "source": []
  }
 ],
 "metadata": {
  "kernelspec": {
   "display_name": "Python 2",
   "language": "python",
   "name": "python2"
  },
  "language_info": {
   "codemirror_mode": {
    "name": "ipython",
    "version": 2
   },
   "file_extension": ".py",
   "mimetype": "text/x-python",
   "name": "python",
   "nbconvert_exporter": "python",
   "pygments_lexer": "ipython2",
   "version": "2.7.13"
  }
 },
 "nbformat": 4,
 "nbformat_minor": 2
}
